{
 "cells": [
  {
   "cell_type": "code",
   "execution_count": 52,
   "metadata": {},
   "outputs": [],
   "source": [
    "import math\n",
    "import networkx as nx\n",
    "import matplotlib.pyplot as plt\n",
    "import pandas as pd"
   ]
  },
  {
   "cell_type": "code",
   "execution_count": 185,
   "metadata": {},
   "outputs": [],
   "source": [
    "class Node:\n",
    "    def __init__(self, node_id, owner, cyborgs, production):\n",
    "        self.node_id = node_id\n",
    "        self.owner = owner\n",
    "        self.cyborgs = cyborgs\n",
    "        self.production = production\n",
    "\n",
    "    def __str__(self):\n",
    "        return str(self.node_id) + ' ' + str(self.owner) + ' ' + str(self.cyborgs) + ' ' + str(self.production)\n",
    "\n",
    "\n",
    "class Edge:\n",
    "    def __init__(self, node1, node2, distance):\n",
    "        self.node1 = node1\n",
    "        self.node2 = node2\n",
    "        self.distance = distance\n",
    "    \n",
    "    def __str__(self):\n",
    "        return str(self.node1) + ' ' + str(self.node2) + ' ' + str(self.distance)\n",
    "\n",
    "class Graph:\n",
    "    def __init__(self, l_nodes_infos=[], l_edges=[]):\n",
    "        self.nodes = []\n",
    "        self.edges = []\n",
    "        for node in l_nodes_infos:\n",
    "            self.add_node(Node(node[0], node[1], node[2], node[3]))\n",
    "        for edge in l_edges:\n",
    "            self.add_edge(Edge(edge[0], edge[1], edge[2]))\n",
    "\n",
    "    def add_node(self, node):\n",
    "        self.nodes.append(node)\n",
    "\n",
    "    def add_edge(self, edge):\n",
    "        self.edges.append(edge)\n",
    "\n",
    "    def getEdge(self, node1, node2):\n",
    "        for edge in self.edges:\n",
    "            if node1 in [edge.node1, edge.node2] and node2 in [edge.node1, edge.node2]:\n",
    "                return edge\n",
    "            \n",
    "    def viz(self,it=10000):\n",
    "        # Create a NetworkX graph object from the Graph class object\n",
    "        G = nx.Graph()\n",
    "        for node in self.nodes:\n",
    "            G.add_node(node)\n",
    "        for edge in self.edges:\n",
    "            G.add_edge(edge.node1, edge.node2, weight=edge.distance)\n",
    "        # Create a dictionary of node colors based on whether the node is in l_init or not\n",
    "        node_colors = {node: 'b' for node in self.nodes}\n",
    "        # Create a list of edge colors based on whether the edge is in l_gw or not\n",
    "        edge_colors = ['g' for edge in self.edges]\n",
    "        # Calculate the spring layout of the graph to minimize edge crossings\n",
    "        pos = nx.spring_layout(G, k=0.5, iterations=it)\n",
    "        # Draw the graph\n",
    "        nx.draw_networkx_nodes(G, pos, node_size=300, node_color=list(node_colors.values()))\n",
    "        nx.draw_networkx_edges(G, pos, edgelist=self.edges, edge_color=edge_colors)\n",
    "        nx.draw_networkx_labels(G, pos, font_size=10, font_family='sans-serif')\n",
    "        plt.axis('off')\n",
    "        plt.show()\n",
    "\n"
   ]
  },
  {
   "cell_type": "code",
   "execution_count": 149,
   "metadata": {},
   "outputs": [],
   "source": [
    "l_nodes = [0, 1, 2, 3, 4, 5, 6, 7, 8, 9, 10, 11, 12, 13, 14]\n",
    "l_nodes_infos = [[0, 0, 0, 0], [1, 1, 16, 2], [2, -1, 16, 2], [3, 0, 6, 3], [4, 0, 6, 3], [5, 0, 6, 2], [6, 0, 6, 2], [7, 0, 5, 1], [8, 0, 5, 1], [9, 0, 1, 1], [10, 0, 1, 1], [11, 0, 4, 2], [12, 0, 4, 2], [13, 0, 6, 2], [14, 0, 6, 2]]\n",
    "l_edges = [[0, 1, 4], [0, 2, 4], [0, 3, 6], [0, 4, 6], [0, 5, 3], [0, 6, 3], [0, 7, 4], [0, 8, 4], [0, 9, 1], [0, 10, 1], [0, 11, 6], [0, 12, 6], [0, 13, 1], [0, 14, 1], [1, 2, 9], [1, 3, 2], [1, 4, 11], [1, 5, 1], [1, 6, 8], [1, 7, 3], [1, 8, 8], [1, 9, 2], [1, 10, 6], [1, 11, 3], [1, 12, 10], [1, 13, 3], [1, 14, 5], [2, 3, 11], [2, 4, 2], [2, 5, 8], [2, 6, 1], [2, 7, 8], [2, 8, 3], [2, 9, 6], [2, 10, 2], [2, 11, 10], [2, 12, 3], [2, 13, 5], [2, 14, 3], [3, 4, 13], [3, 5, 4], [3, 6, 9], [3, 7, 2], [3, 8, 11], [3, 9, 3], [3, 10, 8], [3, 11, 1], [3, 12, 13], [3, 13, 5], [3, 14, 7], [4, 5, 9], [4, 6, 4], [4, 7, 11], [4, 8, 2], [4, 9, 8], [4, 10, 3], [4, 11, 13], [4, 12, 1], [4, 13, 7], [4, 14, 5], [5, 6, 8], [5, 7, 5], [5, 8, 6], [5, 9, 3], [5, 10, 5], [5, 11, 6], [5, 12, 8], [5, 13, 1], [5, 14, 6], [6, 7, 6], [6, 8, 5], [6, 9, 5], [6, 10, 3], [6, 11, 8], [6, 12, 6], [6, 13, 6], [6, 14, 1], [7, 8, 10], [7, 9, 2], [7, 10, 7], [7, 11, 1], [7, 12, 12], [7, 13, 5], [7, 14, 4], [8, 9, 7], [8, 10, 2], [8, 11, 12], [8, 12, 1], [8, 13, 4], [8, 14, 5], [9, 10, 4], [9, 11, 3], [9, 12, 9], [9, 13, 2], [9, 14, 2], [10, 11, 9], [10, 12, 3], [10, 13, 2], [10, 14, 2], [11, 12, 14], [11, 13, 7], [11, 14, 6], [12, 13, 6], [12, 14, 7], [13, 14, 4]]\n",
    "l_troop = []"
   ]
  },
  {
   "cell_type": "code",
   "execution_count": 186,
   "metadata": {},
   "outputs": [],
   "source": [
    "l_nodes = [0, 1, 2, 3, 4, 5, 6, 7, 8, 9, 10, 11, 12, 13, 14]\n",
    "l_nodes_infos = [[0, -1, 3, 0], [1, 1, 2, 1], [2, -1, 5, 1], [3, 1, 3, 3], [4, 0, 12, 3], [5, 1, 2, 2], [6, 0, 7, 2], [7, 1, 4, 2], [8, -1, 2, 2], [9, -1, 1, 1], [10, -1, 1, 1], [11, -1, 3, 0], [12, -1, 1, 0], [13, -1, 1, 1], [14, -1, 7, 1]]\n",
    "l_edges = [[0, 1, 6], [0, 2, 6], [0, 3, 7], [0, 4, 7], [0, 5, 6], [0, 6, 6], [0, 7, 2], [0, 8, 2], [0, 9, 2], [0, 10, 2], [0, 11, 2], [0, 12, 2], [0, 13, 5], [0, 14, 5], [1, 2, 13], [1, 3, 2], [1, 4, 13], [1, 5, 1], [1, 6, 13], [1, 7, 4], [1, 8, 9], [1, 9, 5], [1, 10, 7], [1, 11, 3], [1, 12, 9], [1, 13, 3], [1, 14, 11], [2, 3, 13], [2, 4, 2], [2, 5, 13], [2, 6, 1], [2, 7, 9], [2, 8, 4], [2, 9, 7], [2, 10, 5], [2, 11, 9], [2, 12, 3], [2, 13, 11], [2, 14, 3], [3, 4, 15], [3, 5, 5], [3, 6, 13], [3, 7, 3], [3, 8, 10], [3, 9, 8], [3, 10, 7], [3, 11, 6], [3, 12, 9], [3, 13, 1], [3, 14, 13], [4, 5, 13], [4, 6, 5], [4, 7, 10], [4, 8, 3], [4, 9, 7], [4, 10, 8], [4, 11, 9], [4, 12, 6], [4, 13, 13], [4, 14, 1], [5, 6, 13], [5, 7, 5], [5, 8, 8], [5, 9, 5], [5, 10, 8], [5, 11, 2], [5, 12, 10], [5, 13, 5], [5, 14, 11], [6, 7, 8], [6, 8, 5], [6, 9, 8], [6, 10, 5], [6, 11, 10], [6, 12, 2], [6, 13, 11], [6, 14, 5], [7, 8, 6], [7, 9, 4], [7, 10, 2], [7, 11, 3], [7, 12, 4], [7, 13, 1], [7, 14, 8], [8, 9, 2], [8, 10, 4], [8, 11, 4], [8, 12, 3], [8, 13, 8], [8, 14, 1], [9, 10, 5], [9, 11, 1], [9, 12, 5], [9, 13, 6], [9, 14, 4], [10, 11, 5], [10, 12, 1], [10, 13, 4], [10, 14, 6], [11, 12, 6], [11, 13, 5], [11, 14, 7], [12, 13, 7], [12, 14, 5], [13, 14, 11]]\n",
    "l_troop = [[30, -1, 2, 5, 5, 2], [81, 1, 3, 9, 1, 1], [105, -1, 14, 11, 1, 1], [121, 1, 13, 9, 1, 1], [133, 1, 3, 9, 1, 4], [134, 1, 5, 7, 1, 1], [135, -1, 2, 9, 1, 3], [136, -1, 2, 11, 1, 5], [137, -1, 2, 7, 1, 5], [144, 1, 3, 9, 3, 5], [145, 1, 5, 9, 2, 2], [146, 1, 7, 9, 2, 1], [147, 1, 1, 9, 1, 2], [148, 1, 1, 10, 1, 4], [154, 1, 13, 9, 1, 3], [155, 1, 13, 10, 1, 1], [161, -1, 8, 11, 1, 1], [162, -1, 8, 6, 3, 2], [169, 1, 7, 9, 5, 2], [171, 1, 7, 8, 1, 4], [176, 1, 3, 9, 3, 6], [177, 1, 3, 10, 1, 5], [179, 1, 5, 9, 2, 3], [180, 1, 5, 10, 1, 6], [182, 1, 13, 9, 2, 4], [183, 1, 13, 10, 1, 2], [186, -1, 0, 6, 3, 4], [193, 1, 3, 9, 2, 7], [194, 1, 3, 10, 1, 6], [200, 1, 1, 9, 1, 4], [201, 1, 1, 10, 1, 6], [207, 1, 5, 9, 1, 4], [208, 1, 5, 10, 1, 7], [214, 1, 7, 9, 1, 3], [215, 1, 7, 10, 1, 1], [221, -1, 10, 6, 5, 4], [228, 1, 7, 9, 4, 4], [229, 1, 7, 10, 1, 2], [230, 1, 3, 9, 2, 8], [231, 1, 3, 10, 1, 7], [232, 1, 5, 9, 1, 5], [233, 1, 5, 10, 1, 8], [234, 1, 13, 9, 1, 6], [235, 1, 13, 10, 1, 4], [236, -1, 8, 6, 6, 5], [20, -1, 2, -1, -1, 0]]\n"
   ]
  },
  {
   "cell_type": "code",
   "execution_count": 187,
   "metadata": {},
   "outputs": [],
   "source": [
    "graph = Graph(l_nodes_infos, l_edges)"
   ]
  },
  {
   "cell_type": "code",
   "execution_count": 188,
   "metadata": {},
   "outputs": [
    {
     "data": {
      "text/html": [
       "<div>\n",
       "<style scoped>\n",
       "    .dataframe tbody tr th:only-of-type {\n",
       "        vertical-align: middle;\n",
       "    }\n",
       "\n",
       "    .dataframe tbody tr th {\n",
       "        vertical-align: top;\n",
       "    }\n",
       "\n",
       "    .dataframe thead th {\n",
       "        text-align: right;\n",
       "    }\n",
       "</style>\n",
       "<table border=\"1\" class=\"dataframe\">\n",
       "  <thead>\n",
       "    <tr style=\"text-align: right;\">\n",
       "      <th></th>\n",
       "      <th>node_id</th>\n",
       "      <th>owner</th>\n",
       "      <th>cyborgs</th>\n",
       "      <th>production</th>\n",
       "    </tr>\n",
       "  </thead>\n",
       "  <tbody>\n",
       "    <tr>\n",
       "      <th>0</th>\n",
       "      <td>13</td>\n",
       "      <td>-1</td>\n",
       "      <td>1</td>\n",
       "      <td>1</td>\n",
       "    </tr>\n",
       "    <tr>\n",
       "      <th>1</th>\n",
       "      <td>9</td>\n",
       "      <td>-1</td>\n",
       "      <td>1</td>\n",
       "      <td>1</td>\n",
       "    </tr>\n",
       "    <tr>\n",
       "      <th>2</th>\n",
       "      <td>10</td>\n",
       "      <td>-1</td>\n",
       "      <td>1</td>\n",
       "      <td>1</td>\n",
       "    </tr>\n",
       "    <tr>\n",
       "      <th>3</th>\n",
       "      <td>8</td>\n",
       "      <td>-1</td>\n",
       "      <td>2</td>\n",
       "      <td>2</td>\n",
       "    </tr>\n",
       "    <tr>\n",
       "      <th>4</th>\n",
       "      <td>14</td>\n",
       "      <td>-1</td>\n",
       "      <td>7</td>\n",
       "      <td>1</td>\n",
       "    </tr>\n",
       "    <tr>\n",
       "      <th>5</th>\n",
       "      <td>4</td>\n",
       "      <td>0</td>\n",
       "      <td>12</td>\n",
       "      <td>3</td>\n",
       "    </tr>\n",
       "    <tr>\n",
       "      <th>6</th>\n",
       "      <td>6</td>\n",
       "      <td>0</td>\n",
       "      <td>7</td>\n",
       "      <td>2</td>\n",
       "    </tr>\n",
       "    <tr>\n",
       "      <th>7</th>\n",
       "      <td>2</td>\n",
       "      <td>-1</td>\n",
       "      <td>5</td>\n",
       "      <td>1</td>\n",
       "    </tr>\n",
       "  </tbody>\n",
       "</table>\n",
       "</div>"
      ],
      "text/plain": [
       "   node_id  owner  cyborgs  production\n",
       "0       13     -1        1           1\n",
       "1        9     -1        1           1\n",
       "2       10     -1        1           1\n",
       "3        8     -1        2           2\n",
       "4       14     -1        7           1\n",
       "5        4      0       12           3\n",
       "6        6      0        7           2\n",
       "7        2     -1        5           1"
      ]
     },
     "execution_count": 188,
     "metadata": {},
     "output_type": "execute_result"
    }
   ],
   "source": [
    "lll = sorted([[node.node_id, node.owner, node.cyborgs, node.production, graph.getEdge(1, node.node_id).distance] for node in graph.nodes if node.owner != 1 and node.production != 0], key=lambda x: (x[4], -x[3]))\n",
    "other_nodes = [Node(node[0], node[1], node[2], node[3]) for node in lll]\n",
    "df = pd.DataFrame([[node.node_id, node.owner, node.cyborgs, node.production] for node in other_nodes], columns=['node_id', 'owner', 'cyborgs', 'production'])\n",
    "df"
   ]
  },
  {
   "cell_type": "code",
   "execution_count": 189,
   "metadata": {},
   "outputs": [
    {
     "data": {
      "text/plain": [
       "4"
      ]
     },
     "execution_count": 189,
     "metadata": {},
     "output_type": "execute_result"
    }
   ],
   "source": [
    "my_nodes = sorted([node for node in graph.nodes if node.owner == 1], key=lambda x: (x.cyborgs), reverse=True)\n",
    "my_nodes[0].cyborgs"
   ]
  },
  {
   "cell_type": "code",
   "execution_count": 190,
   "metadata": {},
   "outputs": [
    {
     "name": "stdout",
     "output_type": "stream",
     "text": [
      "graph.nodes[node_dep.node_id].cyborgs :4\n",
      "graph.nodes[node_dep.node_id].cyborgs :2\n",
      "graph.nodes[node_dep.node_id].cyborgs :3\n",
      "graph.nodes[node_dep.node_id].cyborgs :2\n",
      "graph.nodes[node_dep.node_id].cyborgs :2\n"
     ]
    },
    {
     "data": {
      "text/plain": [
       "'MOVE 7 13 2;MOVE 7 9 2;MOVE 3 13 2;MOVE 1 13 2;MOVE 5 13 2;'"
      ]
     },
     "execution_count": 190,
     "metadata": {},
     "output_type": "execute_result"
    }
   ],
   "source": [
    "r = ''\n",
    "for node_dep in my_nodes:\n",
    "    for node_cib in other_nodes:\n",
    "        if graph.nodes[node_dep.node_id].cyborgs > 1:\n",
    "            r += 'MOVE ' + str(node_dep.node_id) + ' ' + str(node_cib.node_id) + ' ' + str(node_cib.cyborgs + 1) + \";\"\n",
    "            print('graph.nodes[node_dep.node_id].cyborgs :' + str(graph.nodes[node_dep.node_id].cyborgs ))\n",
    "            graph.nodes[node_dep.node_id].cyborgs -= (node_cib.cyborgs+1) if graph.nodes[node_dep.node_id].cyborgs > node_cib.cyborgs else 0\n",
    "r"
   ]
  },
  {
   "cell_type": "code",
   "execution_count": 81,
   "metadata": {},
   "outputs": [],
   "source": [
    "# l_nodes_cibles = sorted([node for node in graph.nodes if node.owner != 1 and node.production != 0], key=lambda x: (x.owner, x.production), reverse=True)\n",
    "# l_nodes_dep = sorted([node for node in graph.nodes if node.owner == 1], key=lambda x: (x.cyborgs), reverse=True)"
   ]
  },
  {
   "cell_type": "code",
   "execution_count": 6,
   "metadata": {},
   "outputs": [
    {
     "name": "stdout",
     "output_type": "stream",
     "text": [
      "MOVE 1 3 1;MOVE 1 4 1;MOVE 1 5 1;MOVE 1 6 1;MOVE 1 11 1;MOVE 1 12 1;MOVE 1 13 1;MOVE 1 14 1;MOVE 1 7 1;MOVE 1 8 1;MOVE 1 9 1;MOVE 1 10 1;MOVE 1 2 1\n"
     ]
    }
   ],
   "source": [
    "### output generator\n",
    "if l_nodes_cibles != [] and l_nodes_dep != []:\n",
    "    r = ''\n",
    "    for node in l_nodes_dep:\n",
    "        for nn in l_nodes_cibles:\n",
    "            r += 'MOVE ' + str(node.node_id) + ' ' + str(nn.node_id) + ' ' + str(round(1)) + \";\"\n",
    "    print(r[:-1])\n",
    "else:\n",
    "    print('WAIT')"
   ]
  },
  {
   "cell_type": "code",
   "execution_count": 191,
   "metadata": {},
   "outputs": [],
   "source": [
    "enemy_nodes = sorted([[node.node_id, node.owner, node.cyborgs, node.production, graph.getEdge(1, node.node_id).distance] for node in graph.nodes if node.owner == -1 and node.production != 0], key=lambda x: -x[2])\n",
    "enemy_nodes = [Node(node[0], node[1], node[2], node[3]) for node in enemy_nodes]\n",
    "\n",
    "# enemy_nodes = [Node(node[0], node[1], node[2], node[3]) for node in lll]\n",
    "# df = pd.DataFrame([[node.node_id, node.owner, node.cyborgs, node.production] for node in other_nodes], columns=['node_id', 'owner', 'cyborgs', 'production'])\n",
    "# df"
   ]
  },
  {
   "cell_type": "code",
   "execution_count": 194,
   "metadata": {},
   "outputs": [
    {
     "data": {
      "text/plain": [
       "'14 -1 7 1'"
      ]
     },
     "execution_count": 194,
     "metadata": {},
     "output_type": "execute_result"
    }
   ],
   "source": [
    "str(enemy_nodes[0])"
   ]
  },
  {
   "cell_type": "code",
   "execution_count": 195,
   "metadata": {},
   "outputs": [
    {
     "data": {
      "text/plain": [
       "14"
      ]
     },
     "execution_count": 195,
     "metadata": {},
     "output_type": "execute_result"
    }
   ],
   "source": [
    "enemy_nodes[0].node_id"
   ]
  },
  {
   "cell_type": "code",
   "execution_count": null,
   "metadata": {},
   "outputs": [],
   "source": []
  }
 ],
 "metadata": {
  "kernelspec": {
   "display_name": "Python 3",
   "language": "python",
   "name": "python3"
  },
  "language_info": {
   "codemirror_mode": {
    "name": "ipython",
    "version": 3
   },
   "file_extension": ".py",
   "mimetype": "text/x-python",
   "name": "python",
   "nbconvert_exporter": "python",
   "pygments_lexer": "ipython3",
   "version": "3.10.10"
  },
  "orig_nbformat": 4,
  "vscode": {
   "interpreter": {
    "hash": "c191ac31eb5a51f7479b437d0b1caa7f45d86d72064e415a69b906cae35307e5"
   }
  }
 },
 "nbformat": 4,
 "nbformat_minor": 2
}
